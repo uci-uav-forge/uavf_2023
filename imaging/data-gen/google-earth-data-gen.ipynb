{
  "cells": [
    {
      "cell_type": "code",
      "execution_count": 1,
      "metadata": {
        "colab": {
          "base_uri": "https://localhost:8080/"
        },
        "id": "PSB9k1xCvBjo",
        "outputId": "0c6df80c-c3a4-49cd-95e8-c56944275cd9"
      },
      "outputs": [
        {
          "data": {
            "text/html": [
              "<p>To authorize access needed by Earth Engine, open the following\n",
              "        URL in a web browser and follow the instructions:</p>\n",
              "        <p><a href=https://code.earthengine.google.com/client-auth?scopes=https%3A//www.googleapis.com/auth/earthengine%20https%3A//www.googleapis.com/auth/devstorage.full_control&request_id=mW3EuD2yHmwtBOZh_Q_hBFWvy8aGxNJI4TcUqFbNjVA&tc=rCOWSjLyATmjA5enr3u8bm6WPjXliCIbWS5nwhfxez0&cc=oaNfls9VMeZqXgCfJSRb9a37O-RGF6X6vmFG-QqGSxs>https://code.earthengine.google.com/client-auth?scopes=https%3A//www.googleapis.com/auth/earthengine%20https%3A//www.googleapis.com/auth/devstorage.full_control&request_id=mW3EuD2yHmwtBOZh_Q_hBFWvy8aGxNJI4TcUqFbNjVA&tc=rCOWSjLyATmjA5enr3u8bm6WPjXliCIbWS5nwhfxez0&cc=oaNfls9VMeZqXgCfJSRb9a37O-RGF6X6vmFG-QqGSxs</a></p>\n",
              "        <p>The authorization workflow will generate a code, which you should paste in the box below.</p>\n",
              "        "
            ],
            "text/plain": [
              "<IPython.core.display.HTML object>"
            ]
          },
          "metadata": {},
          "output_type": "display_data"
        },
        {
          "name": "stdout",
          "output_type": "stream",
          "text": [
            "\n",
            "Successfully saved authorization token.\n"
          ]
        }
      ],
      "source": [
        "# before running, make sure mss and geemap are pip-installed. geemap is the google maps API Python SDK, and mss is for taking screenshots (Map.to_image is the only thing that uses it).\n",
        "import ee\n",
        "import geemap\n",
        "ee.Authenticate()\n",
        "ee.Initialize()"
      ]
    },
    {
      "cell_type": "code",
      "execution_count": 4,
      "metadata": {
        "colab": {
          "base_uri": "https://localhost:8080/",
          "height": 36
        },
        "id": "taX0mpejOd0q",
        "outputId": "cb02548e-a352-4445-ec53-7810c2af96ef"
      },
      "outputs": [
        {
          "data": {
            "application/vnd.jupyter.widget-view+json": {
              "model_id": "0dbb5ad30ca94d8095557d37e16e8602",
              "version_major": 2,
              "version_minor": 0
            },
            "text/plain": [
              "Map(center=[38.315992290108305, -76.54939286810203], controls=(WidgetControl(options=['position', 'transparent…"
            ]
          },
          "execution_count": 4,
          "metadata": {},
          "output_type": "execute_result"
        }
      ],
      "source": [
        "Map = geemap.Map(center=(38.315992290108305, -76.54939286810203), zoom=17, basemap='SATELLITE')\n",
        "Map.to_image()"
      ]
    },
    {
      "cell_type": "code",
      "execution_count": null,
      "metadata": {
        "colab": {
          "base_uri": "https://localhost:8080/",
          "height": 832
        },
        "id": "v_cTlVXJTAas",
        "outputId": "175860f1-3dcd-4b06-b513-537eae5d1374"
      },
      "outputs": [
        {
          "data": {
            "text/html": [
              "<img src=\"https://earthengine.googleapis.com/v1alpha/projects/earthengine-legacy/thumbnails/56772f4f613325cd67b31e03484fb406-3912a45cfb0850128c3f7d49a6a53848:getPixels\"/>"
            ],
            "text/plain": [
              "<IPython.core.display.Image object>"
            ]
          },
          "execution_count": 4,
          "metadata": {},
          "output_type": "execute_result"
        }
      ],
      "source": [
        "from IPython.display import Image\n",
        "r_poi = ee.Geometry.Point(-76.55084112581335, 38.31374038338649)\n",
        "roi = r_poi.buffer(1000)  # meters\n",
        "\n",
        "url = image.getThumbUrl({\n",
        "    'min': 0, 'max': 0.3, 'region': roi, 'dimensions': 1000})\n",
        "Image(url=url)\n"
      ]
    },
    {
      "cell_type": "code",
      "execution_count": null,
      "metadata": {
        "id": "xL6UXXcpuiwP"
      },
      "outputs": [],
      "source": [
        "dataset = ee.ImageCollection('LANDSAT/LC08/C01/T1_32DAY_NDVI') \\\n",
        "                  .filterDate('2017-01-01', '2017-12-31')\n",
        "colorized = dataset.select('NDVI')\n",
        "colorizedVis = {\n",
        "  'min': 0.0,\n",
        "  'max': 1.0,\n",
        "  'palette': [\n",
        "    'FFFFFF', 'CE7E45', 'DF923D', 'F1B555', 'FCD163', '99B718', '74A901',\n",
        "    '66A000', '529400', '3E8601', '207401', '056201', '004C00', '023B01',\n",
        "    '012E01', '011D01', '011301'\n",
        "  ],\n",
        "}\n",
        "Map.setCenter(-76.55084112581335, 38.31374038338649, 15)\n",
        "Map.addLayer(colorized, colorizedVis, 'Colorized')"
      ]
    }
  ],
  "metadata": {
    "accelerator": "GPU",
    "colab": {
      "collapsed_sections": [],
      "provenance": []
    },
    "gpuClass": "standard",
    "kernelspec": {
      "display_name": "Python 3.10.8 ('imaging': venv)",
      "language": "python",
      "name": "python3"
    },
    "language_info": {
      "codemirror_mode": {
        "name": "ipython",
        "version": 3
      },
      "file_extension": ".py",
      "mimetype": "text/x-python",
      "name": "python",
      "nbconvert_exporter": "python",
      "pygments_lexer": "ipython3",
      "version": "3.10.8"
    },
    "vscode": {
      "interpreter": {
        "hash": "af7e3d567f18a004c07dd04df5d4f9340c863f4d8190ac6e5b98417bafd6d76d"
      }
    }
  },
  "nbformat": 4,
  "nbformat_minor": 0
}
