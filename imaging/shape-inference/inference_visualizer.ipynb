{
 "cells": [
  {
   "cell_type": "code",
   "execution_count": 8,
   "metadata": {},
   "outputs": [
    {
     "name": "stdout",
     "output_type": "stream",
     "text": [
      "The autoreload extension is already loaded. To reload it, use:\n",
      "  %reload_ext autoreload\n"
     ]
    },
    {
     "ename": "AttributeError",
     "evalue": "'tuple' object has no attribute 'astype'",
     "output_type": "error",
     "traceback": [
      "\u001b[0;31m---------------------------------------------------------------------------\u001b[0m",
      "\u001b[0;31mAttributeError\u001b[0m                            Traceback (most recent call last)",
      "Cell \u001b[0;32mIn [8], line 16\u001b[0m\n\u001b[1;32m     12\u001b[0m annotated_img \u001b[38;5;241m=\u001b[39m tf\u001b[38;5;241m.\u001b[39mkeras\u001b[38;5;241m.\u001b[39mpreprocessing\u001b[38;5;241m.\u001b[39mimage\u001b[38;5;241m.\u001b[39mimg_to_array(img)\n\u001b[1;32m     13\u001b[0m \u001b[38;5;28;01mfor\u001b[39;00m bbox \u001b[38;5;129;01min\u001b[39;00m bboxes:\n\u001b[1;32m     14\u001b[0m     annotated_img \u001b[38;5;241m=\u001b[39m cv\u001b[38;5;241m.\u001b[39mrectangle(\n\u001b[1;32m     15\u001b[0m         img\u001b[38;5;241m=\u001b[39mannotated_img, \n\u001b[0;32m---> 16\u001b[0m         pt1\u001b[38;5;241m=\u001b[39mnp\u001b[38;5;241m.\u001b[39mflip(\u001b[43mbbox\u001b[49m\u001b[43m[\u001b[49m\u001b[38;5;241;43m0\u001b[39;49m\u001b[43m:\u001b[49m\u001b[38;5;241;43m2\u001b[39;49m\u001b[43m]\u001b[49m\u001b[38;5;241;43m.\u001b[39;49m\u001b[43mastype\u001b[49m(\u001b[38;5;28mint\u001b[39m)), \n\u001b[1;32m     17\u001b[0m         pt2\u001b[38;5;241m=\u001b[39mnp\u001b[38;5;241m.\u001b[39mflip(bbox[\u001b[38;5;241m2\u001b[39m:]\u001b[38;5;241m.\u001b[39mastype(\u001b[38;5;28mint\u001b[39m)), \n\u001b[1;32m     18\u001b[0m         color\u001b[38;5;241m=\u001b[39m(\u001b[38;5;241m255\u001b[39m,\u001b[38;5;241m0\u001b[39m,\u001b[38;5;241m0\u001b[39m))\n\u001b[1;32m     19\u001b[0m plt\u001b[38;5;241m.\u001b[39mimshow(annotated_img\u001b[38;5;241m.\u001b[39mastype(\u001b[38;5;28mint\u001b[39m))\n\u001b[1;32m     20\u001b[0m plt\u001b[38;5;241m.\u001b[39mshow()\n",
      "\u001b[0;31mAttributeError\u001b[0m: 'tuple' object has no attribute 'astype'"
     ]
    }
   ],
   "source": [
    "%load_ext autoreload\n",
    "%autoreload 2\n",
    "import numpy as np\n",
    "import tensorflow as tf\n",
    "from PIL import Image\n",
    "import cv2 as cv\n",
    "import matplotlib.pyplot as plt\n",
    "from shape_inference import make_prediction, supress_nonmax_bboxes\n",
    "img = Image.open(\"example-shape.jpg\")\n",
    "outputs: list[np.ndarray] = make_prediction(img)\n",
    "bboxes = supress_nonmax_bboxes(outputs[0][0], 0)\n",
    "annotated_img = tf.keras.preprocessing.image.img_to_array(img)\n",
    "for bbox in bboxes:\n",
    "    annotated_img = cv.rectangle(\n",
    "        img=annotated_img, \n",
    "        pt1=np.flip(bbox[0:2].astype(int)), \n",
    "        pt2=np.flip(bbox[2:].astype(int)), \n",
    "        color=(255,0,0))\n",
    "plt.imshow(annotated_img.astype(int))\n",
    "plt.show()"
   ]
  }
 ],
 "metadata": {
  "kernelspec": {
   "display_name": "Python 3.9.13 ('base')",
   "language": "python",
   "name": "python3"
  },
  "language_info": {
   "codemirror_mode": {
    "name": "ipython",
    "version": 3
   },
   "file_extension": ".py",
   "mimetype": "text/x-python",
   "name": "python",
   "nbconvert_exporter": "python",
   "pygments_lexer": "ipython3",
   "version": "3.9.13"
  },
  "orig_nbformat": 4,
  "vscode": {
   "interpreter": {
    "hash": "c9e28755c7eb1815033ac46c6e6bdc4e4cbac512f33931294df31dbbc3fd8bfb"
   }
  }
 },
 "nbformat": 4,
 "nbformat_minor": 2
}
